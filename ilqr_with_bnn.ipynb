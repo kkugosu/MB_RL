{
 "cells": [
  {
   "cell_type": "code",
   "execution_count": 1,
   "id": "0aed319c",
   "metadata": {},
   "outputs": [
    {
     "name": "stdout",
     "output_type": "stream",
     "text": [
      "device cpu\n"
     ]
    }
   ],
   "source": [
    "import torch\n",
    "from torch.utils.data import DataLoader\n",
    "import torch.nn as nn\n",
    "import random\n",
    "import matplotlib.pyplot as plt\n",
    "import numpy as np\n",
    "import torch.autograd.functional as F\n",
    "USE_CUDA = torch.cuda.is_available() \n",
    "device = torch.device(\"cuda\" if USE_CUDA else \"cpu\") \n",
    "print(\"device\", device)\n",
    "batch_size = 24\n",
    "hidden_size = 10\n",
    "state_size = 1\n",
    "action_size = 1\n",
    "reward_size = 1\n",
    "\n",
    "class Custom_Activation_F:\n",
    "    \n",
    "    def __init__(self, rate = 1):\n",
    "        self.rate = rate\n",
    "        \n",
    "    def logact(self, a):\n",
    "        '''\n",
    "        logistic activation function\n",
    "        '''\n",
    "        i = 0\n",
    "        while i < len(a):\n",
    "            j = 0\n",
    "            while j < len(a[i]):\n",
    "                if a[i][j] > 0:\n",
    "                    a[i][j] = torch.log(a[i][j] + self.rate)\n",
    "                else:\n",
    "                    a[i][j] = - torch.log(self.rate - a[i][j])\n",
    "                j = j + 1\n",
    "            i = i + 1\n",
    "        return a\n",
    " "
   ]
  },
  {
   "cell_type": "code",
   "execution_count": 2,
   "id": "e2250330",
   "metadata": {},
   "outputs": [],
   "source": [
    "class BayesianLinear(nn.Module):\n",
    "    \n",
    "    def __init__(self, i_s, o_s):\n",
    "        '''\n",
    "        i_s = input_size\n",
    "        o_s = output_size\n",
    "        \n",
    "        '''\n",
    "        super().__init__()\n",
    "        self.i_s = i_s\n",
    "        self.o_s = o_s\n",
    "        self.b_s = 1\n",
    "        self.w = nn.Parameter(\n",
    "            torch.zeros(self.i_s, self.o_s, dtype = torch.float32, requires_grad=True)\n",
    "        )\n",
    "        self.b = nn.Parameter(\n",
    "            torch.zeros(self.o_s, dtype = torch.float32, requires_grad=True)\n",
    "        )\n",
    "        \n",
    "        self.w_prior = torch.zeros(self.i_s, self.o_s)\n",
    "        self.b_prior = torch.zeros(self.o_s)\n",
    "        \n",
    "    def _rep(self, mu):\n",
    "        return mu + torch.randn_like(mu)*0.1\n",
    "    \n",
    "    def _update_prior(self, w1, w2, b, rate = 0.1):\n",
    "        self.w_prior = w.clone().detach()*rate + self.w_prior*(1-rate)\n",
    "        self.b_prior = b.clone().detach()*rate + self.b_prior*(1-rate)\n",
    "        \n",
    "    def kldloss(self):\n",
    "        sum1 = torch.sum(torch.square(self.w - self.w_prior))\n",
    "        sum2 = torch.sum(torch.square(self.b - self.b_prior))\n",
    "        return sum1 + sum2\n",
    "    \n",
    "    def forward(self, x):\n",
    "        self.b_s = len(x)\n",
    "        b = self._rep(self.b)\n",
    "        w = self._rep(self.w)\n",
    "        b = b.expand(self.b_s, self.o_s)\n",
    "        x = torch.matmul(x, w) + b\n",
    "        #self._update_prior(self.w1_prior, self.w2_prior, self.b_prior, rate)\n",
    "        #if we want to move prior, we can just subtract _prior term at the upper line\n",
    "        return x\n",
    "    "
   ]
  },
  {
   "cell_type": "code",
   "execution_count": 3,
   "id": "41646298",
   "metadata": {},
   "outputs": [],
   "source": [
    "class Bayesian_Model(nn.Module):\n",
    "    \n",
    "    def __init__(self, input_size, hidden_size, output_size):\n",
    "        super().__init__()\n",
    "        self.tanh = nn.Tanh()\n",
    "        self.lrelu = nn.LeakyReLU(0.1)\n",
    "        self.blinear1 = BayesianLinear(input_size, hidden_size)\n",
    "        self.blinear2 = BayesianLinear(hidden_size, hidden_size)\n",
    "        self.blinear3 = BayesianLinear(hidden_size, output_size)\n",
    "        self.myact = Custom_Activation_F()\n",
    "    \n",
    "    def forward(self, x):\n",
    "        \n",
    "        x = self.blinear1(x)\n",
    "        \n",
    "        x = self.tanh(x)\n",
    "        x = self.blinear2(x)\n",
    "        \n",
    "        x = self.tanh(x)\n",
    "        x = self.blinear3(x)\n",
    "        \n",
    "        \n",
    "        #self._update_prior(self.w1_prior, self.w2_prior, self.b_prior, rate)\n",
    "        #if we want to move prior, we can just subtract _prior term at the upper line\n",
    "        return x\n",
    "    \n",
    "    def kld_loss(self):\n",
    "        \n",
    "        L1 = self.blinear1.kldloss()\n",
    "        L2 = self.blinear2.kldloss()\n",
    "        L3 = self.blinear3.kldloss()\n",
    "        \n",
    "        return (L1+L2+L3)"
   ]
  },
  {
   "cell_type": "code",
   "execution_count": 4,
   "id": "9e854661",
   "metadata": {},
   "outputs": [],
   "source": [
    "class ilqr:\n",
    "    \n",
    "    def __init__(self, ts, dyn, re, sl, al):\n",
    "        \"\"\"\n",
    "        Args:\n",
    "            ts: time step\n",
    "            dyn: dynamic\n",
    "            re: reward\n",
    "            sl: state length\n",
    "            al: action length\n",
    "        \"\"\"\n",
    "        self.ts = ts\n",
    "        self.dyn = dyn\n",
    "        self.re = re\n",
    "        self.sl = sl\n",
    "        self.al = al\n",
    "        \n",
    "        self.S = torch.rand((self.ts, 1, self.sl))\n",
    "        self.A = torch.rand((self.ts, 1, self.al))\n",
    "        self.R = torch.empty((self.ts, 1, 1))\n",
    "        self.K_arr = torch.zeros(self.ts, self.al, self.sl)\n",
    "        self.k_arr = torch.zeros(self.ts, 1, self.al)\n",
    "        self.ifconv = 0\n",
    "\n",
    "    def _forward(self):\n",
    "        \n",
    "        p_S = self.S\n",
    "        p_A = self.A\n",
    "        s = p_S[0].clone().detach()\n",
    "        a = p_A[0].clone().detach()\n",
    "\n",
    "        i = 0\n",
    "        while i < self.ts:\n",
    "            self.S[i] = s\n",
    "            a = (torch.matmul(s - p_S[i],torch.transpose((self.K_arr[i]),0,1)) + \n",
    "                 self.k_arr[i] + p_A[i]\n",
    "                )\n",
    "            self.A[i] = a\n",
    "            sa_in = torch.cat((s, self.A[i]),dim = 1)\n",
    "            #sa_in shape = [1,state_size + action_size]\n",
    "            \n",
    "            j = 0\n",
    "            while j < 100:\n",
    "                s = s + self.dyn(sa_in)\n",
    "                j = j + 1\n",
    "            s = s / 100\n",
    "            #state shape = [1,state_size]\n",
    "\n",
    "            self.R[i] = self.re(sa_in)\n",
    "            i = i + 1\n",
    "\n",
    "    def _backward(self):\n",
    "        \n",
    "        i = self.ts -1\n",
    "        self.K_arr = torch.zeros(self.ts, self.al, self.sl )\n",
    "        self.k_arr = torch.zeros(self.ts, 1, self.al )\n",
    "\n",
    "        while i > -1:\n",
    "            sa_in = torch.cat((self.S[i], self.A[i]),dim = 1)\n",
    "            j = 0\n",
    "            C_t = torch.zeros(self.sl + self.al, self.sl + self.al)\n",
    "            F_t = torch.zeros(self.sl, self.sl + self.al)\n",
    "            c_t = torch.zeros(1, self.sl + self.al)\n",
    "            \n",
    "            while j < 100:\n",
    "                \n",
    "                C_t += torch.squeeze(F.hessian(self.re, sa_in)[0],dim = 1)\n",
    "                #shape = [state+action, state+action]\n",
    "                #print(torch.sum(C_t))\n",
    "                F_t += torch.squeeze(F.jacobian(self.dyn, sa_in)[0],dim=1)\n",
    "                #shape = [state, state+action]\n",
    "                #print(torch.sum(F_t))\n",
    "                c_t += torch.squeeze(F.jacobian(self.re, sa_in)[0],dim=1)\n",
    "                #shape = [1, state+action]\n",
    "                #print(torch.sum(c_t))\n",
    "                j = j + 1\n",
    "                \n",
    "            C_t = C_t/100\n",
    "            F_t = F_t/100\n",
    "            c_t = c_t/100\n",
    "            \n",
    "            transF_t = torch.transpose(F_t,0,1)\n",
    "            \n",
    "            if i == self.ts - 1:\n",
    "                Q_t = C_t\n",
    "                q_t = c_t\n",
    "            else:\n",
    "                Q_t = C_t + torch.matmul(torch.matmul(transF_t, V_t), F_t)\n",
    "                #eq 5[c~e]\n",
    "                q_t = c_t + torch.matmul(v_t, F_t)\n",
    "                #eq 5[a~b]\n",
    "                \n",
    "            Q_pre1 = torch.split(Q_t, [self.sl, self.al])[0]\n",
    "            Q_pre2 = torch.split(Q_t, [self.sl, self.al])[1]\n",
    "            Q_xx = torch.split(Q_pre1, [self.sl, self.al], dim = 1)[0]\n",
    "            Q_xu = torch.split(Q_pre1, [self.sl, self.al], dim = 1)[1]\n",
    "            Q_ux = torch.split(Q_pre2, [self.sl, self.al], dim = 1)[0]\n",
    "            Q_uu = torch.split(Q_pre2, [self.sl, self.al], dim = 1)[1]\n",
    "            \n",
    "            q_t = torch.split(q_t, [self.sl, self.al], dim = 1)\n",
    "            Q_x = q_t[0]\n",
    "            Q_u = q_t[1]\n",
    "            \n",
    "            try:\n",
    "                invQuu = torch.linalg.inv(Q_uu - torch.eye(self.al)) #regularize term\n",
    "                #eq [9]\n",
    "            except:\n",
    "                invQuu = torch.linalg.inv(Q_uu + torch.eye(self.al)*0.01)\n",
    "                self.ifconv = 1\n",
    "\n",
    "            K_t = -torch.matmul(invQuu, Q_ux)\n",
    "            transK_t = torch.transpose(K_t, 0, 1)\n",
    "            #K_t shape = [actlen, statelen]\n",
    "            \n",
    "            k_t = -torch.matmul(Q_u, invQuu)\n",
    "            #k_t shape = [1,actlen]\n",
    "\n",
    "            V_t = (Q_xx + torch.matmul(Q_xu, K_t) + \n",
    "                   torch.matmul(transK_t, Q_ux) +\n",
    "                   torch.matmul(torch.matmul(transK_t, Q_uu), K_t)\n",
    "                  )\n",
    "            # eq 11c\n",
    "            #V_t shape = [statelen, statelen]\n",
    "\n",
    "            v_t = (Q_x + torch.matmul(k_t, Q_ux) + \n",
    "                   torch.matmul(Q_u, K_t) + \n",
    "                   torch.matmul(k_t, torch.matmul(Q_uu, K_t)) \n",
    "                  )\n",
    "            # eq 11b\n",
    "            #v_t shape = [1, statelen]\n",
    "            \n",
    "            self.K_arr[i] = K_t\n",
    "            self.k_arr[i] = k_t\n",
    "            i = i - 1\n",
    "    \n",
    "    def fit(self):\n",
    "        \n",
    "        i = 0\n",
    "        \n",
    "        while (self.ifconv != 1) and i < 10:\n",
    "            i = i + 1\n",
    "            self._forward()\n",
    "            self._backward()\n",
    "            \n",
    "\n",
    "        return self.A"
   ]
  },
  {
   "cell_type": "code",
   "execution_count": 5,
   "id": "166bb117",
   "metadata": {},
   "outputs": [],
   "source": [
    "Dynamics = Bayesian_Model(2, 10, 1) #state + action -> state"
   ]
  },
  {
   "cell_type": "code",
   "execution_count": 6,
   "id": "0ce6964e",
   "metadata": {},
   "outputs": [
    {
     "name": "stdout",
     "output_type": "stream",
     "text": [
      "tensor([[0.0573]], grad_fn=<AddBackward0>)\n"
     ]
    }
   ],
   "source": [
    "Reward = Bayesian_Model(2, 10, 1) #state + action -> reward\n",
    "a = torch.tensor([[-0.110, -0.222]])\n",
    "print(Reward(a))"
   ]
  },
  {
   "cell_type": "code",
   "execution_count": 7,
   "id": "a29994a7",
   "metadata": {},
   "outputs": [],
   "source": [
    "local_policy = ilqr(4, Dynamics, Reward, 1, 1)"
   ]
  },
  {
   "cell_type": "code",
   "execution_count": 8,
   "id": "a17f9f92",
   "metadata": {},
   "outputs": [],
   "source": [
    "Transition_data = torch.tensor([[-1., 3., 5, 1], [-2, 2, 5, 1], [-0.5, 2, 4, 5], \n",
    "                         [-0.5, 1.5, 3, 3], [0.5, 1, 1, 1], [1, 1, -1, -1],\n",
    "                         [2, 2, -3, 5], [3, 2, -4, -4], [4, 4, -5, -5],\n",
    "                         [5, 4, -4, -10], [5, 5, -3, -3], [6, 4, -2, -9],\n",
    "                         [7, 4, -1, -1], [8, 3, 0, 0], [8, 4, 1, 1],\n",
    "                         [9, 3, 3, 3], [9, 1, 5, -3], [10, 2, 6, 6], \n",
    "                         [11, 3, 3, 3], [13, 3, 1, 1], [15, 1, -1, -1], \n",
    "                         [-3, 1, 3, 3], [40, 3, -5, -5], [40, 3, -5, -5]])\n",
    "\n",
    "train_dataloader = DataLoader(Transition_data, batch_size=batch_size, shuffle=True)\n",
    "\n",
    "optimizer1 = torch.optim.SGD(Dynamics.parameters(), lr=0.001)\n",
    "optimizer2 = torch.optim.SGD(Reward.parameters(), lr=0.001)"
   ]
  },
  {
   "cell_type": "code",
   "execution_count": 9,
   "id": "1f146bb0",
   "metadata": {
    "scrolled": true
   },
   "outputs": [
    {
     "name": "stdout",
     "output_type": "stream",
     "text": [
      "tensor(716.2802, grad_fn=<AddBackward0>)\n",
      "tensor(616.3531, grad_fn=<AddBackward0>)\n",
      "tensor(554.2869, grad_fn=<AddBackward0>)\n",
      "tensor(423.3110, grad_fn=<AddBackward0>)\n",
      "tensor(484.0158, grad_fn=<AddBackward0>)\n",
      "tensor(409.7816, grad_fn=<AddBackward0>)\n",
      "tensor(426.1569, grad_fn=<AddBackward0>)\n",
      "tensor(475.7136, grad_fn=<AddBackward0>)\n",
      "tensor(414.6655, grad_fn=<AddBackward0>)\n",
      "tensor(458.8098, grad_fn=<AddBackward0>)\n"
     ]
    }
   ],
   "source": [
    "i = 0\n",
    "batch_size = 24\n",
    "total_num = 24\n",
    "\n",
    "while i < 1000:\n",
    "    train_data = next(iter(train_dataloader))\n",
    "    sa, s, r = torch.split(train_data, [state_size + action_size, state_size, reward_size], dim = 1)\n",
    "    \n",
    "    Dyna_output = Dynamics(sa)\n",
    "    Rew_output = Reward(sa)\n",
    "    \n",
    "    Dynamic_loss = (torch.sum(torch.square(Dyna_output - s)) + \n",
    "                    Dynamics.kld_loss()*(batch_size/total_num)\n",
    "                   )\n",
    "    \n",
    "    Reward_loss = (torch.sum(torch.square(Rew_output - r)) + \n",
    "                   Reward.kld_loss()*(batch_size/total_num)\n",
    "                  )\n",
    "    \n",
    "    total_loss = Dynamic_loss + Reward_loss\n",
    "    \n",
    "    optimizer1.zero_grad()\n",
    "    optimizer2.zero_grad()\n",
    "    total_loss.backward()\n",
    "    optimizer1.step()\n",
    "    optimizer2.step()\n",
    "    if i % 100 == 0:\n",
    "        print(total_loss)\n",
    "    i = i + 1"
   ]
  },
  {
   "cell_type": "code",
   "execution_count": 10,
   "id": "642106b2",
   "metadata": {
    "scrolled": true
   },
   "outputs": [
    {
     "name": "stderr",
     "output_type": "stream",
     "text": [
      "C:\\Users\\sppo\\AppData\\Local\\Temp\\ipykernel_11228\\1064388671.py:10: UserWarning: To copy construct from a tensor, it is recommended to use sourceTensor.clone().detach() or sourceTensor.clone().detach().requires_grad_(True), rather than torch.tensor(sourceTensor).\n",
      "  Z9 = torch.tensor(z, requires_grad = False).numpy()\n",
      "No artists with labels found to put in legend.  Note that artists whose label start with an underscore are ignored when legend() is called with no argument.\n"
     ]
    },
    {
     "data": {
      "image/png": "[encoded data removed]",
      "text/plain": [
       "<Figure size 432x288 with 1 Axes>"
      ]
     },
     "metadata": {
      "needs_background": "light"
     },
     "output_type": "display_data"
    }
   ],
   "source": [
    "x = np.linspace(-30, 30, 100)\n",
    "y = np.linspace(3, 3, 100)\n",
    "newxy = np.concatenate((np.transpose([x]), np.transpose([y])), axis = 1)\n",
    "newxy = torch.tensor(newxy, dtype = torch.float32)\n",
    "newxy = torch.reshape(newxy,(100,2))\n",
    "\n",
    "i = 0\n",
    "while i<20:\n",
    "    z = Reward(newxy)\n",
    "    Z9 = torch.tensor(z, requires_grad = False).numpy()\n",
    "    plt.scatter(x, Z9, color = 'purple', alpha = 0.2)\n",
    "    i = i + 1\n",
    "\n",
    "plt.legend()\n",
    "plt.show()"
   ]
  },
  {
   "cell_type": "code",
   "execution_count": 11,
   "id": "c9d68046",
   "metadata": {},
   "outputs": [],
   "source": [
    "Action_array = local_policy.fit()"
   ]
  },
  {
   "cell_type": "code",
   "execution_count": 12,
   "id": "9f39d916",
   "metadata": {},
   "outputs": [
    {
     "data": {
      "text/plain": [
       "tensor([[[0.3978]],\n",
       "\n",
       "        [[0.9731]],\n",
       "\n",
       "        [[0.8117]],\n",
       "\n",
       "        [[1.0367]]], grad_fn=<CopySlices>)"
      ]
     },
     "execution_count": 12,
     "metadata": {},
     "output_type": "execute_result"
    }
   ],
   "source": [
    "Action_array"
   ]
  },
  {
   "cell_type": "code",
   "execution_count": null,
   "id": "1dcddd4f",
   "metadata": {},
   "outputs": [],
   "source": []
  },
  {
   "cell_type": "code",
   "execution_count": null,
   "id": "2f00584c",
   "metadata": {},
   "outputs": [],
   "source": []
  }
 ],
 "metadata": {
  "kernelspec": {
   "display_name": "Python 3 (ipykernel)",
   "language": "python",
   "name": "python3"
  },
  "language_info": {
   "codemirror_mode": {
    "name": "ipython",
    "version": 3
   },
   "file_extension": ".py",
   "mimetype": "text/x-python",
   "name": "python",
   "nbconvert_exporter": "python",
   "pygments_lexer": "ipython3",
   "version": "3.9.12"
  }
 },
 "nbformat": 4,
 "nbformat_minor": 5
}
