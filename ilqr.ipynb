{
 "cells": [
  {
   "cell_type": "code",
   "execution_count": 34,
   "id": "f160c3b4",
   "metadata": {},
   "outputs": [],
   "source": [
    "import numpy as np\n",
    "import torch\n",
    "from torch import nn\n",
    "import torch.autograd.functional as Fu\n",
    "from functorch import vmap, hessian, jacfwd\n",
    "STATELEN = 5\n",
    "ACTLEN = 3\n",
    "STEP_SIZE = 4\n",
    "#based on https://homes.cs.washington.edu/~todorov/papers/TassaIROS12.pdf\n",
    "class Dynamics(nn.Module):\n",
    "\n",
    "    def __init__(self, input_size, hidden_size, output_size):\n",
    "        super(Dynamics, self).__init__()\n",
    "        # self.flatten = nn.Flatten()\n",
    "        self.linear_relu_stack = nn.Sequential(\n",
    "            nn.Linear(input_size, hidden_size),\n",
    "            nn.Tanh(),\n",
    "            nn.Linear(hidden_size, hidden_size),\n",
    "            nn.LeakyReLU(0.1),\n",
    "            nn.Linear(hidden_size, output_size),\n",
    "        )\n",
    "        self.freeze = 0\n",
    "        # we have to freeze at estimate because we have to use vmap for batch training\n",
    "    def forward(self, input_element):\n",
    "        output = self.linear_relu_stack(input_element)\n",
    "        return output\n",
    "    \n",
    "class reward(nn.Module):\n",
    "    #NAF\n",
    "    def __init__(self, input_size, hidden_size, output_size):\n",
    "        super(reward, self).__init__()\n",
    "        # self.flatten = nn.Flatten()\n",
    "        self.linear_relu_stack = nn.Sequential(\n",
    "            nn.Linear(input_size, hidden_size),\n",
    "            nn.Tanh(),\n",
    "            nn.Linear(hidden_size, hidden_size),\n",
    "            nn.LeakyReLU(0.1),\n",
    "            nn.Linear(hidden_size, output_size),\n",
    "        )\n",
    "    def forward(self, input_element):\n",
    "        output = self.linear_relu_stack(input_element)\n",
    "        return output\n",
    "    \n",
    "class ilqr:\n",
    "    \n",
    "    def __init__(self, ts, dyn, re, sl, al, b_s = 1):\n",
    "        \"\"\"\n",
    "        Args:\n",
    "            ts: time step\n",
    "            dyn: dynamic\n",
    "            re: reward\n",
    "            sl: state length\n",
    "            al: action length\n",
    "        \"\"\"\n",
    "        self.ts = ts\n",
    "        self.dyn = dyn\n",
    "        self.re = re\n",
    "        self.sl = sl\n",
    "        self.al = al\n",
    "        self.b_s = b_s\n",
    "        \n",
    "        self.S = torch.rand((self.ts, self.b_s, self.sl))\n",
    "        self.A = torch.rand((self.ts, self.b_s, self.al))\n",
    "        self.R = torch.empty((self.ts, self.b_s, 1))\n",
    "        self.K_arr = torch.zeros(self.ts, self.b_s, self.al, self.sl)\n",
    "        self.k_arr = torch.zeros(self.ts, self.b_s, 1, self.al)\n",
    "        self.ifconv = 0\n",
    "        \n",
    "\n",
    "    def _get_reward(self, state_action):\n",
    "        \n",
    "        state, action = torch.split(state_action, [self.sl, self.al], dim=-1)\n",
    "        pre_psd, bias, value = torch.split(my_reward(state), [self.al**2, self.al, 1], dim=-1)\n",
    "        \n",
    "        pre_psd = torch.reshape(pre_psd, (self.b_s, self.al, self.al))\n",
    "        pre_psd_trans = torch.transpose(pre_psd, 1, 2)\n",
    "        psd = torch.matmul(pre_psd, pre_psd_trans)\n",
    "        \n",
    "        a_b = (action - bias).unsqueeze(1)\n",
    "        a_b_t = torch.transpose(a_b_t,1,2)\n",
    "        return value - torch.matmul(torch.matmul(a_b,psd),a_b_t)\n",
    "        \n",
    "        \n",
    "    def _forward(self):\n",
    "        \n",
    "        new_S = torch.rand((self.ts, self.b_s, self.sl))\n",
    "        new_A = torch.rand((self.ts, self.b_s, self.al))\n",
    "        s = self.S[0].clone().detach()\n",
    "\n",
    "        i = 0\n",
    "        while i < self.ts:\n",
    "            new_S[i] = s\n",
    "            new_A[i] = (torch.matmul(new_S[i] - self.S[i],torch.transpose((self.K_arr[i]),1,2)) + \n",
    "                        self.k_arr[i] + self.A[i]\n",
    "                       )\n",
    "            \n",
    "            sa_in = torch.cat((new_S[i], new_A[i]),dim = 1)\n",
    "            #sa_in shape = [1,state_size + action_size]\n",
    "\n",
    "            s = self.dyn(sa_in)\n",
    "            #state shape = [1,state_size]\n",
    "\n",
    "            self.R[i] = self.re(sa_in)\n",
    "            \n",
    "            i = i + 1\n",
    "            \n",
    "        self.S = new_S\n",
    "        self.A = new_A\n",
    "\n",
    "    def _backward(self):\n",
    "        \n",
    "        C = torch.zeros(self.b_s, self.al + self.sl, self.al + self.sl)\n",
    "        F = torch.zeros(self.b_s, self.sl, self.al + self.sl)\n",
    "        c = torch.zeros(self.b_s, 1, self.al + self.sl)\n",
    "        V = torch.zeros(self.b_s, self.sl, self.sl)\n",
    "        v = torch.zeros(self.b_s, 1, self.sl)\n",
    "        sa_in = torch.cat((self.S, self.A),dim = 2)\n",
    "        i = self.ts -1\n",
    "        while i > -1:\n",
    "\n",
    "            C = vmap(hessian(self._get_reward))(sa_in[i])\n",
    "            #shape = [state+action, state+action]\n",
    "            #print(torch.sum(C[j]))\n",
    "            c = vmap(jacfwd(self._get_reward))(sa_in[i])\n",
    "            #shape = [1, state+action]\n",
    "            #print(torch.sum(c[j]))\n",
    "            F = vmap(jacfwd(self.dyn))(sa_in[i])\n",
    "            #shape = [state, state+action]\n",
    "            #print(torch.sum(F[j]))\n",
    "            # use jacfwd because input is large than output\n",
    "            transF = torch.transpose(F,1,2)\n",
    "            Q = C + torch.matmul(torch.matmul(transF, V), F)\n",
    "            #eq 5[c~e]\n",
    "            q = c + torch.matmul(v, F)\n",
    "            #eq 5[a~b]\n",
    "            \n",
    "            Q_pre1, Q_pre2 = torch.split(Q, [self.sl, self.al], dim = 1)\n",
    "            Q_xx, Q_xu = torch.split(Q_pre1, [self.sl, self.al], dim = 2)\n",
    "            Q_ux, Q_uu = torch.split(Q_pre2, [self.sl, self.al], dim = 2)\n",
    "            \n",
    "            Q_x, Q_u = torch.split(q, [self.sl, self.al], dim = 2)\n",
    "            ## how to batched eye?\n",
    "            #print(Q_uu)\n",
    "            try:\n",
    "                invQuu = torch.linalg.inv(Q_uu)# - torch.eye(self.al)) #regularize term\n",
    "                #eq [9]\n",
    "            except:\n",
    "                invQuu = torch.linalg.inv(Q_uu + torch.eye(self.al)*0.01)\n",
    "                self.ifconv = 1\n",
    "\n",
    "            K = -torch.matmul(invQuu, Q_ux)\n",
    "            transK = torch.transpose(K, 1, 2)\n",
    "            #K_t shape = [actlen, statelen]\n",
    "            \n",
    "            k = -torch.matmul(Q_u, invQuu)\n",
    "            #k_t shape = [1,actlen]\n",
    "            \n",
    "            V = (Q_xx + torch.matmul(Q_xu, K) + \n",
    "                 torch.matmul(transK, Q_ux) +\n",
    "                 torch.matmul(torch.matmul(transK, Q_uu), K)\n",
    "                )\n",
    "            # eq 11c\n",
    "            #V_t shape = [statelen, statelen]\n",
    "\n",
    "            v = (Q_x + torch.matmul(k, Q_ux) + \n",
    "                 torch.matmul(Q_u, K) + \n",
    "                 torch.matmul(k, torch.matmul(Q_uu, K)) \n",
    "                )\n",
    "            # eq 11b\n",
    "            #v_t shape = [1, statelen]\n",
    "            \n",
    "            self.K_arr[i] = K\n",
    "            self.k_arr[i] = k\n",
    "            i = i - 1\n",
    "    \n",
    "    def fit(self, action):\n",
    "        setattr(self.dyn,'freeze',1)\n",
    "        i = 0\n",
    "        while (self.ifconv != 1) and i < 100:\n",
    "            i = i + 1\n",
    "            self._forward()\n",
    "            self._backward()\n",
    "\n",
    "            print(\"act\",self.A)\n",
    "        return self.A\n",
    "\n",
    "# for param in rew.parameters():\n",
    "#    print(param)"
   ]
  },
  {
   "cell_type": "code",
   "execution_count": 35,
   "id": "036a84a1",
   "metadata": {},
   "outputs": [
    {
     "name": "stdout",
     "output_type": "stream",
     "text": [
      "act tensor([[[0.9749, 0.4833, 0.6944]]])\n",
      "act tensor([[[7.6521, 6.7259, 4.8770]]])\n",
      "act tensor([[[12.4801,  9.3464,  9.9503]]])\n",
      "act tensor([[[17.2375, 11.8197, 15.1921]]])\n",
      "act tensor([[[21.8614, 14.1933, 20.3263]]])\n",
      "act tensor([[[26.4242, 16.5321, 25.3947]]])\n",
      "act tensor([[[30.9630, 18.8587, 30.4347]]])\n",
      "act tensor([[[35.4925, 21.1809, 35.4630]]])\n",
      "act tensor([[[40.0186, 23.5017, 40.4871]]])\n",
      "act tensor([[[44.5434, 25.8218, 45.5096]]])\n",
      "act tensor([[[49.0677, 28.1417, 50.5314]]])\n",
      "act tensor([[[53.5918, 30.4616, 55.5530]]])\n",
      "act tensor([[[58.1158, 32.7814, 60.5745]]])\n",
      "act tensor([[[62.6399, 35.1012, 65.5959]]])\n",
      "act tensor([[[67.1639, 37.4210, 70.6174]]])\n",
      "act tensor([[[71.4139, 39.4210, 75.6174]]])\n",
      "act tensor([[[75.2264, 39.6710, 82.3674]]])\n",
      "act tensor([[[79.7504, 41.9909, 87.3888]]])\n"
     ]
    },
    {
     "data": {
      "text/plain": [
       "tensor([[[79.7504, 41.9909, 87.3888]]])"
      ]
     },
     "execution_count": 35,
     "metadata": {},
     "output_type": "execute_result"
    }
   ],
   "source": [
    "my_Dyna = Dynamics(STATELEN + ACTLEN, STATELEN, STATELEN)\n",
    "my_reward = reward(STATELEN, STATELEN , ACTLEN**2 + ACTLEN + 1)\n",
    "\n",
    "myilqr = ilqr(1 ,my_Dyna,my_reward,STATELEN,ACTLEN,1)\n",
    "action = torch.rand((1, 1, ACTLEN))\n",
    "myilqr.fit(action)"
   ]
  },
  {
   "cell_type": "code",
   "execution_count": 15,
   "id": "7ea1362c",
   "metadata": {},
   "outputs": [],
   "source": [
    "#F.hessian(my_reward, torch.rand((STATELEN+ACTLEN))\n",
    "#         )"
   ]
  },
  {
   "cell_type": "code",
   "execution_count": 19,
   "id": "f4062449",
   "metadata": {},
   "outputs": [
    {
     "name": "stdout",
     "output_type": "stream",
     "text": [
      "tensor(0.8921)\n"
     ]
    }
   ],
   "source": [
    "import torch\n",
    "S = torch.rand((4))\n",
    "print(S[-1])"
   ]
  },
  {
   "cell_type": "code",
   "execution_count": 4,
   "id": "32d483ff",
   "metadata": {},
   "outputs": [
    {
     "data": {
      "text/plain": [
       "torch.Size([12])"
      ]
     },
     "execution_count": 4,
     "metadata": {},
     "output_type": "execute_result"
    }
   ],
   "source": [
    "import numpy as np\n",
    "np.shape(S.view(-1))"
   ]
  },
  {
   "cell_type": "code",
   "execution_count": 9,
   "id": "05f08e67",
   "metadata": {},
   "outputs": [
    {
     "data": {
      "text/plain": [
       "torch.Size([3, 4])"
      ]
     },
     "execution_count": 9,
     "metadata": {},
     "output_type": "execute_result"
    }
   ],
   "source": [
    "np.shape(S.squeeze())"
   ]
  },
  {
   "cell_type": "code",
   "execution_count": 11,
   "id": "dca2265f",
   "metadata": {},
   "outputs": [
    {
     "ename": "NameError",
     "evalue": "name 'self' is not defined",
     "output_type": "error",
     "traceback": [
      "\u001b[1;31m---------------------------------------------------------------------------\u001b[0m",
      "\u001b[1;31mNameError\u001b[0m                                 Traceback (most recent call last)",
      "Input \u001b[1;32mIn [11]\u001b[0m, in \u001b[0;36m<cell line: 1>\u001b[1;34m()\u001b[0m\n\u001b[1;32m----> 1\u001b[0m new_S \u001b[38;5;241m=\u001b[39m torch\u001b[38;5;241m.\u001b[39mrand((\u001b[38;5;28;43mself\u001b[39;49m\u001b[38;5;241m.\u001b[39mts, \u001b[38;5;241m1\u001b[39m, \u001b[38;5;28mself\u001b[39m\u001b[38;5;241m.\u001b[39msl))\n\u001b[0;32m      2\u001b[0m new_A \u001b[38;5;241m=\u001b[39m torch\u001b[38;5;241m.\u001b[39mrand((\u001b[38;5;28mself\u001b[39m\u001b[38;5;241m.\u001b[39mts, \u001b[38;5;241m1\u001b[39m, \u001b[38;5;28mself\u001b[39m\u001b[38;5;241m.\u001b[39mal))\n\u001b[0;32m      4\u001b[0m my_Dyna \u001b[38;5;241m=\u001b[39m Dynamics(STATELEN \u001b[38;5;241m+\u001b[39m ACTLEN, STATELEN, STATELEN)\n",
      "\u001b[1;31mNameError\u001b[0m: name 'self' is not defined"
     ]
    }
   ],
   "source": [
    "new_S = torch.rand((4, 1, 3))\n",
    "new_A = torch.rand((4, 1, 5))\n",
    "\n",
    "my_Dyna = Dynamics(STATELEN + ACTLEN, STATELEN, STATELEN)\n",
    "my_reward = reward(STATELEN + ACTLEN, STATELEN , 1)\n",
    "\n",
    "s = S[0].clone().detach()\n",
    "\n",
    "\n",
    "i = 0\n",
    "while i < self.ts:\n",
    "    new_S[i] = s\n",
    "    new_A[i] = (torch.matmul(new_S[i] - S[i],torch.transpose((K_arr[i]),0,1)) + \n",
    "         k_arr[i] + A[i]\n",
    "        )\n",
    "    sa_in = torch.cat((new_S[i], new_A[i]),dim = 1)\n",
    "    #sa_in shape = [1,state_size + action_size]\n",
    "\n",
    "    s = my_Dyna(sa_in)\n",
    "    #state shape = [1,state_size]\n",
    "\n",
    "    R[i] = my_reward(sa_in)\n",
    "\n",
    "    i = i + 1"
   ]
  },
  {
   "cell_type": "code",
   "execution_count": 27,
   "id": "c7b8b74f",
   "metadata": {},
   "outputs": [
    {
     "name": "stdout",
     "output_type": "stream",
     "text": [
      "tensor([[[0.2503, 0.3700, 0.4463],\n",
      "         [0.4160, 0.0699, 0.1047]],\n",
      "\n",
      "        [[0.9365, 0.2305, 0.5194],\n",
      "         [0.5007, 0.1840, 0.7685]],\n",
      "\n",
      "        [[0.3118, 0.0037, 0.9661],\n",
      "         [0.8170, 0.1456, 0.4000]],\n",
      "\n",
      "        [[0.2563, 0.4554, 0.3776],\n",
      "         [0.1245, 0.0504, 0.4079]]])\n",
      "tensor([[[3.6793e-02, 1.1044e-01, 2.9308e-04, 4.6370e-01, 4.4860e-01],\n",
      "         [3.6057e-01, 9.2463e-03, 5.8263e-01, 5.1973e-01, 1.9103e-01]],\n",
      "\n",
      "        [[2.8883e-01, 3.3326e-01, 8.0322e-01, 9.9161e-01, 5.6124e-01],\n",
      "         [2.3160e-01, 5.5209e-02, 6.0231e-02, 1.4384e-02, 5.6236e-01]],\n",
      "\n",
      "        [[4.1703e-01, 1.2557e-01, 1.8472e-01, 7.6195e-01, 3.2007e-02],\n",
      "         [2.8687e-01, 4.0119e-01, 6.5657e-02, 4.1373e-01, 3.4538e-01]],\n",
      "\n",
      "        [[8.0777e-01, 2.9345e-01, 5.2441e-01, 6.9381e-01, 3.9671e-01],\n",
      "         [9.2216e-01, 5.5927e-01, 8.9263e-01, 2.1028e-01, 6.0275e-01]]])\n",
      "torch.Size([2, 8])\n"
     ]
    }
   ],
   "source": [
    "new_S = torch.rand((4, 2, 3))\n",
    "new_A = torch.rand((4, 2, 5))\n",
    "print(new_S)\n",
    "print(new_A)\n",
    "sa_in = torch.cat((new_S[0], new_A[0]),dim = 1)\n",
    "print(np.shape(sa_in))"
   ]
  },
  {
   "cell_type": "code",
   "execution_count": 16,
   "id": "ba9b506a",
   "metadata": {},
   "outputs": [],
   "source": [
    "my_Dyna = Dynamics(8, 3, 3)\n",
    "my_reward = reward(8, 3 , 1)"
   ]
  },
  {
   "cell_type": "code",
   "execution_count": 24,
   "id": "1e141ee1",
   "metadata": {},
   "outputs": [],
   "source": [
    "output = my_Dyna(torch.cat((new_S[0], new_A[0]),dim = 1))"
   ]
  },
  {
   "cell_type": "code",
   "execution_count": 25,
   "id": "73d74918",
   "metadata": {},
   "outputs": [
    {
     "data": {
      "text/plain": [
       "torch.Size([2, 3])"
      ]
     },
     "execution_count": 25,
     "metadata": {},
     "output_type": "execute_result"
    }
   ],
   "source": [
    "np.shape(output)"
   ]
  },
  {
   "cell_type": "code",
   "execution_count": 26,
   "id": "55d74156",
   "metadata": {},
   "outputs": [
    {
     "ename": "RuntimeError",
     "evalue": "The Tensor returned by the function given to hessian should contain a single element",
     "output_type": "error",
     "traceback": [
      "\u001b[1;31m---------------------------------------------------------------------------\u001b[0m",
      "\u001b[1;31mRuntimeError\u001b[0m                              Traceback (most recent call last)",
      "Input \u001b[1;32mIn [26]\u001b[0m, in \u001b[0;36m<cell line: 2>\u001b[1;34m()\u001b[0m\n\u001b[0;32m      1\u001b[0m \u001b[38;5;28;01mimport\u001b[39;00m \u001b[38;5;21;01mtorch\u001b[39;00m\u001b[38;5;21;01m.\u001b[39;00m\u001b[38;5;21;01mautograd\u001b[39;00m\u001b[38;5;21;01m.\u001b[39;00m\u001b[38;5;21;01mfunctional\u001b[39;00m \u001b[38;5;28;01mas\u001b[39;00m \u001b[38;5;21;01mF\u001b[39;00m\n\u001b[1;32m----> 2\u001b[0m C_t \u001b[38;5;241m=\u001b[39m \u001b[43mF\u001b[49m\u001b[38;5;241;43m.\u001b[39;49m\u001b[43mhessian\u001b[49m\u001b[43m(\u001b[49m\u001b[43mmy_reward\u001b[49m\u001b[43m,\u001b[49m\u001b[43m \u001b[49m\u001b[43msa_in\u001b[49m\u001b[43m)\u001b[49m\n\u001b[0;32m      3\u001b[0m \u001b[38;5;28mprint\u001b[39m(np\u001b[38;5;241m.\u001b[39mshape(C_t))\n",
      "File \u001b[1;32mC:\\ProgramData\\Anaconda3\\lib\\site-packages\\torch\\autograd\\functional.py:807\u001b[0m, in \u001b[0;36mhessian\u001b[1;34m(func, inputs, create_graph, strict, vectorize, outer_jacobian_strategy)\u001b[0m\n\u001b[0;32m    804\u001b[0m     _check_requires_grad(jac, \u001b[38;5;124m\"\u001b[39m\u001b[38;5;124mjacobian\u001b[39m\u001b[38;5;124m\"\u001b[39m, strict\u001b[38;5;241m=\u001b[39mstrict)\n\u001b[0;32m    805\u001b[0m     \u001b[38;5;28;01mreturn\u001b[39;00m jac\n\u001b[1;32m--> 807\u001b[0m res \u001b[38;5;241m=\u001b[39m \u001b[43mjacobian\u001b[49m\u001b[43m(\u001b[49m\u001b[43mjac_func\u001b[49m\u001b[43m,\u001b[49m\u001b[43m \u001b[49m\u001b[43minputs\u001b[49m\u001b[43m,\u001b[49m\u001b[43m \u001b[49m\u001b[43mcreate_graph\u001b[49m\u001b[38;5;241;43m=\u001b[39;49m\u001b[43mcreate_graph\u001b[49m\u001b[43m,\u001b[49m\u001b[43m \u001b[49m\u001b[43mstrict\u001b[49m\u001b[38;5;241;43m=\u001b[39;49m\u001b[43mstrict\u001b[49m\u001b[43m,\u001b[49m\u001b[43m \u001b[49m\u001b[43mvectorize\u001b[49m\u001b[38;5;241;43m=\u001b[39;49m\u001b[43mvectorize\u001b[49m\u001b[43m,\u001b[49m\n\u001b[0;32m    808\u001b[0m \u001b[43m               \u001b[49m\u001b[43mstrategy\u001b[49m\u001b[38;5;241;43m=\u001b[39;49m\u001b[43mouter_jacobian_strategy\u001b[49m\u001b[43m)\u001b[49m\n\u001b[0;32m    809\u001b[0m \u001b[38;5;28;01mreturn\u001b[39;00m _tuple_postprocess(res, (is_inputs_tuple, is_inputs_tuple))\n",
      "File \u001b[1;32mC:\\ProgramData\\Anaconda3\\lib\\site-packages\\torch\\autograd\\functional.py:574\u001b[0m, in \u001b[0;36mjacobian\u001b[1;34m(func, inputs, create_graph, strict, vectorize, strategy)\u001b[0m\n\u001b[0;32m    571\u001b[0m is_inputs_tuple, inputs \u001b[38;5;241m=\u001b[39m _as_tuple(inputs, \u001b[38;5;124m\"\u001b[39m\u001b[38;5;124minputs\u001b[39m\u001b[38;5;124m\"\u001b[39m, \u001b[38;5;124m\"\u001b[39m\u001b[38;5;124mjacobian\u001b[39m\u001b[38;5;124m\"\u001b[39m)\n\u001b[0;32m    572\u001b[0m inputs \u001b[38;5;241m=\u001b[39m _grad_preprocess(inputs, create_graph\u001b[38;5;241m=\u001b[39mcreate_graph, need_graph\u001b[38;5;241m=\u001b[39m\u001b[38;5;28;01mTrue\u001b[39;00m)\n\u001b[1;32m--> 574\u001b[0m outputs \u001b[38;5;241m=\u001b[39m \u001b[43mfunc\u001b[49m\u001b[43m(\u001b[49m\u001b[38;5;241;43m*\u001b[39;49m\u001b[43minputs\u001b[49m\u001b[43m)\u001b[49m\n\u001b[0;32m    575\u001b[0m is_outputs_tuple, outputs \u001b[38;5;241m=\u001b[39m _as_tuple(outputs,\n\u001b[0;32m    576\u001b[0m                                       \u001b[38;5;124m\"\u001b[39m\u001b[38;5;124moutputs of the user-provided function\u001b[39m\u001b[38;5;124m\"\u001b[39m,\n\u001b[0;32m    577\u001b[0m                                       \u001b[38;5;124m\"\u001b[39m\u001b[38;5;124mjacobian\u001b[39m\u001b[38;5;124m\"\u001b[39m)\n\u001b[0;32m    578\u001b[0m _check_requires_grad(outputs, \u001b[38;5;124m\"\u001b[39m\u001b[38;5;124moutputs\u001b[39m\u001b[38;5;124m\"\u001b[39m, strict\u001b[38;5;241m=\u001b[39mstrict)\n",
      "File \u001b[1;32mC:\\ProgramData\\Anaconda3\\lib\\site-packages\\torch\\autograd\\functional.py:803\u001b[0m, in \u001b[0;36mhessian.<locals>.jac_func\u001b[1;34m(*inp)\u001b[0m\n\u001b[0;32m    799\u001b[0m \u001b[38;5;28;01mif\u001b[39;00m outer_jacobian_strategy \u001b[38;5;241m==\u001b[39m \u001b[38;5;124m\"\u001b[39m\u001b[38;5;124mforward-mode\u001b[39m\u001b[38;5;124m\"\u001b[39m:\n\u001b[0;32m    800\u001b[0m     \u001b[38;5;66;03m# _grad_preprocess requires create_graph=True and input to require_grad\u001b[39;00m\n\u001b[0;32m    801\u001b[0m     \u001b[38;5;66;03m# or else the input will be detached\u001b[39;00m\n\u001b[0;32m    802\u001b[0m     inp \u001b[38;5;241m=\u001b[39m \u001b[38;5;28mtuple\u001b[39m(t\u001b[38;5;241m.\u001b[39mrequires_grad_(\u001b[38;5;28;01mTrue\u001b[39;00m) \u001b[38;5;28;01mfor\u001b[39;00m t \u001b[38;5;129;01min\u001b[39;00m inp)\n\u001b[1;32m--> 803\u001b[0m jac \u001b[38;5;241m=\u001b[39m \u001b[43mjacobian\u001b[49m\u001b[43m(\u001b[49m\u001b[43mensure_single_output_function\u001b[49m\u001b[43m,\u001b[49m\u001b[43m \u001b[49m\u001b[43minp\u001b[49m\u001b[43m,\u001b[49m\u001b[43m \u001b[49m\u001b[43mcreate_graph\u001b[49m\u001b[38;5;241;43m=\u001b[39;49m\u001b[38;5;28;43;01mTrue\u001b[39;49;00m\u001b[43m)\u001b[49m\n\u001b[0;32m    804\u001b[0m _check_requires_grad(jac, \u001b[38;5;124m\"\u001b[39m\u001b[38;5;124mjacobian\u001b[39m\u001b[38;5;124m\"\u001b[39m, strict\u001b[38;5;241m=\u001b[39mstrict)\n\u001b[0;32m    805\u001b[0m \u001b[38;5;28;01mreturn\u001b[39;00m jac\n",
      "File \u001b[1;32mC:\\ProgramData\\Anaconda3\\lib\\site-packages\\torch\\autograd\\functional.py:574\u001b[0m, in \u001b[0;36mjacobian\u001b[1;34m(func, inputs, create_graph, strict, vectorize, strategy)\u001b[0m\n\u001b[0;32m    571\u001b[0m is_inputs_tuple, inputs \u001b[38;5;241m=\u001b[39m _as_tuple(inputs, \u001b[38;5;124m\"\u001b[39m\u001b[38;5;124minputs\u001b[39m\u001b[38;5;124m\"\u001b[39m, \u001b[38;5;124m\"\u001b[39m\u001b[38;5;124mjacobian\u001b[39m\u001b[38;5;124m\"\u001b[39m)\n\u001b[0;32m    572\u001b[0m inputs \u001b[38;5;241m=\u001b[39m _grad_preprocess(inputs, create_graph\u001b[38;5;241m=\u001b[39mcreate_graph, need_graph\u001b[38;5;241m=\u001b[39m\u001b[38;5;28;01mTrue\u001b[39;00m)\n\u001b[1;32m--> 574\u001b[0m outputs \u001b[38;5;241m=\u001b[39m \u001b[43mfunc\u001b[49m\u001b[43m(\u001b[49m\u001b[38;5;241;43m*\u001b[39;49m\u001b[43minputs\u001b[49m\u001b[43m)\u001b[49m\n\u001b[0;32m    575\u001b[0m is_outputs_tuple, outputs \u001b[38;5;241m=\u001b[39m _as_tuple(outputs,\n\u001b[0;32m    576\u001b[0m                                       \u001b[38;5;124m\"\u001b[39m\u001b[38;5;124moutputs of the user-provided function\u001b[39m\u001b[38;5;124m\"\u001b[39m,\n\u001b[0;32m    577\u001b[0m                                       \u001b[38;5;124m\"\u001b[39m\u001b[38;5;124mjacobian\u001b[39m\u001b[38;5;124m\"\u001b[39m)\n\u001b[0;32m    578\u001b[0m _check_requires_grad(outputs, \u001b[38;5;124m\"\u001b[39m\u001b[38;5;124moutputs\u001b[39m\u001b[38;5;124m\"\u001b[39m, strict\u001b[38;5;241m=\u001b[39mstrict)\n",
      "File \u001b[1;32mC:\\ProgramData\\Anaconda3\\lib\\site-packages\\torch\\autograd\\functional.py:794\u001b[0m, in \u001b[0;36mhessian.<locals>.ensure_single_output_function\u001b[1;34m(*inp)\u001b[0m\n\u001b[0;32m    791\u001b[0m     \u001b[38;5;28;01mraise\u001b[39;00m \u001b[38;5;167;01mRuntimeError\u001b[39;00m(\u001b[38;5;124m\"\u001b[39m\u001b[38;5;124mThe function given to hessian should return a single Tensor\u001b[39m\u001b[38;5;124m\"\u001b[39m)\n\u001b[0;32m    793\u001b[0m \u001b[38;5;28;01mif\u001b[39;00m out\u001b[38;5;241m.\u001b[39mnelement() \u001b[38;5;241m!=\u001b[39m \u001b[38;5;241m1\u001b[39m:\n\u001b[1;32m--> 794\u001b[0m     \u001b[38;5;28;01mraise\u001b[39;00m \u001b[38;5;167;01mRuntimeError\u001b[39;00m(\u001b[38;5;124m\"\u001b[39m\u001b[38;5;124mThe Tensor returned by the function given to hessian should contain a single element\u001b[39m\u001b[38;5;124m\"\u001b[39m)\n\u001b[0;32m    796\u001b[0m \u001b[38;5;28;01mreturn\u001b[39;00m out\u001b[38;5;241m.\u001b[39msqueeze()\n",
      "\u001b[1;31mRuntimeError\u001b[0m: The Tensor returned by the function given to hessian should contain a single element"
     ]
    }
   ],
   "source": [
    "import torch.autograd.functional as F\n",
    "C_t = F.hessian(my_reward, sa_in)\n",
    "print(np.shape(C_t))"
   ]
  },
  {
   "cell_type": "code",
   "execution_count": 30,
   "id": "115224b4",
   "metadata": {},
   "outputs": [
    {
     "ename": "TypeError",
     "evalue": "pow_adder_reducer() missing 1 required positional argument: 'y'",
     "output_type": "error",
     "traceback": [
      "\u001b[1;31m---------------------------------------------------------------------------\u001b[0m",
      "\u001b[1;31mTypeError\u001b[0m                                 Traceback (most recent call last)",
      "Input \u001b[1;32mIn [30]\u001b[0m, in \u001b[0;36m<cell line: 5>\u001b[1;34m()\u001b[0m\n\u001b[0;32m      3\u001b[0m    \u001b[38;5;28;01mreturn\u001b[39;00m (\u001b[38;5;241m2\u001b[39m \u001b[38;5;241m*\u001b[39m x\u001b[38;5;241m.\u001b[39mpow(\u001b[38;5;241m2\u001b[39m) \u001b[38;5;241m+\u001b[39m \u001b[38;5;241m3\u001b[39m \u001b[38;5;241m*\u001b[39m y\u001b[38;5;241m.\u001b[39mpow(\u001b[38;5;241m2\u001b[39m))\u001b[38;5;241m.\u001b[39msum()\n\u001b[0;32m      4\u001b[0m inputs \u001b[38;5;241m=\u001b[39m torch\u001b[38;5;241m.\u001b[39mrand(\u001b[38;5;241m2\u001b[39m)\n\u001b[1;32m----> 5\u001b[0m \u001b[43mF\u001b[49m\u001b[38;5;241;43m.\u001b[39;49m\u001b[43mhessian\u001b[49m\u001b[43m(\u001b[49m\u001b[43mpow_adder_reducer\u001b[49m\u001b[43m,\u001b[49m\u001b[43m \u001b[49m\u001b[43minputs\u001b[49m\u001b[43m)\u001b[49m\n",
      "File \u001b[1;32mC:\\ProgramData\\Anaconda3\\lib\\site-packages\\torch\\autograd\\functional.py:807\u001b[0m, in \u001b[0;36mhessian\u001b[1;34m(func, inputs, create_graph, strict, vectorize, outer_jacobian_strategy)\u001b[0m\n\u001b[0;32m    804\u001b[0m     _check_requires_grad(jac, \u001b[38;5;124m\"\u001b[39m\u001b[38;5;124mjacobian\u001b[39m\u001b[38;5;124m\"\u001b[39m, strict\u001b[38;5;241m=\u001b[39mstrict)\n\u001b[0;32m    805\u001b[0m     \u001b[38;5;28;01mreturn\u001b[39;00m jac\n\u001b[1;32m--> 807\u001b[0m res \u001b[38;5;241m=\u001b[39m \u001b[43mjacobian\u001b[49m\u001b[43m(\u001b[49m\u001b[43mjac_func\u001b[49m\u001b[43m,\u001b[49m\u001b[43m \u001b[49m\u001b[43minputs\u001b[49m\u001b[43m,\u001b[49m\u001b[43m \u001b[49m\u001b[43mcreate_graph\u001b[49m\u001b[38;5;241;43m=\u001b[39;49m\u001b[43mcreate_graph\u001b[49m\u001b[43m,\u001b[49m\u001b[43m \u001b[49m\u001b[43mstrict\u001b[49m\u001b[38;5;241;43m=\u001b[39;49m\u001b[43mstrict\u001b[49m\u001b[43m,\u001b[49m\u001b[43m \u001b[49m\u001b[43mvectorize\u001b[49m\u001b[38;5;241;43m=\u001b[39;49m\u001b[43mvectorize\u001b[49m\u001b[43m,\u001b[49m\n\u001b[0;32m    808\u001b[0m \u001b[43m               \u001b[49m\u001b[43mstrategy\u001b[49m\u001b[38;5;241;43m=\u001b[39;49m\u001b[43mouter_jacobian_strategy\u001b[49m\u001b[43m)\u001b[49m\n\u001b[0;32m    809\u001b[0m \u001b[38;5;28;01mreturn\u001b[39;00m _tuple_postprocess(res, (is_inputs_tuple, is_inputs_tuple))\n",
      "File \u001b[1;32mC:\\ProgramData\\Anaconda3\\lib\\site-packages\\torch\\autograd\\functional.py:574\u001b[0m, in \u001b[0;36mjacobian\u001b[1;34m(func, inputs, create_graph, strict, vectorize, strategy)\u001b[0m\n\u001b[0;32m    571\u001b[0m is_inputs_tuple, inputs \u001b[38;5;241m=\u001b[39m _as_tuple(inputs, \u001b[38;5;124m\"\u001b[39m\u001b[38;5;124minputs\u001b[39m\u001b[38;5;124m\"\u001b[39m, \u001b[38;5;124m\"\u001b[39m\u001b[38;5;124mjacobian\u001b[39m\u001b[38;5;124m\"\u001b[39m)\n\u001b[0;32m    572\u001b[0m inputs \u001b[38;5;241m=\u001b[39m _grad_preprocess(inputs, create_graph\u001b[38;5;241m=\u001b[39mcreate_graph, need_graph\u001b[38;5;241m=\u001b[39m\u001b[38;5;28;01mTrue\u001b[39;00m)\n\u001b[1;32m--> 574\u001b[0m outputs \u001b[38;5;241m=\u001b[39m \u001b[43mfunc\u001b[49m\u001b[43m(\u001b[49m\u001b[38;5;241;43m*\u001b[39;49m\u001b[43minputs\u001b[49m\u001b[43m)\u001b[49m\n\u001b[0;32m    575\u001b[0m is_outputs_tuple, outputs \u001b[38;5;241m=\u001b[39m _as_tuple(outputs,\n\u001b[0;32m    576\u001b[0m                                       \u001b[38;5;124m\"\u001b[39m\u001b[38;5;124moutputs of the user-provided function\u001b[39m\u001b[38;5;124m\"\u001b[39m,\n\u001b[0;32m    577\u001b[0m                                       \u001b[38;5;124m\"\u001b[39m\u001b[38;5;124mjacobian\u001b[39m\u001b[38;5;124m\"\u001b[39m)\n\u001b[0;32m    578\u001b[0m _check_requires_grad(outputs, \u001b[38;5;124m\"\u001b[39m\u001b[38;5;124moutputs\u001b[39m\u001b[38;5;124m\"\u001b[39m, strict\u001b[38;5;241m=\u001b[39mstrict)\n",
      "File \u001b[1;32mC:\\ProgramData\\Anaconda3\\lib\\site-packages\\torch\\autograd\\functional.py:803\u001b[0m, in \u001b[0;36mhessian.<locals>.jac_func\u001b[1;34m(*inp)\u001b[0m\n\u001b[0;32m    799\u001b[0m \u001b[38;5;28;01mif\u001b[39;00m outer_jacobian_strategy \u001b[38;5;241m==\u001b[39m \u001b[38;5;124m\"\u001b[39m\u001b[38;5;124mforward-mode\u001b[39m\u001b[38;5;124m\"\u001b[39m:\n\u001b[0;32m    800\u001b[0m     \u001b[38;5;66;03m# _grad_preprocess requires create_graph=True and input to require_grad\u001b[39;00m\n\u001b[0;32m    801\u001b[0m     \u001b[38;5;66;03m# or else the input will be detached\u001b[39;00m\n\u001b[0;32m    802\u001b[0m     inp \u001b[38;5;241m=\u001b[39m \u001b[38;5;28mtuple\u001b[39m(t\u001b[38;5;241m.\u001b[39mrequires_grad_(\u001b[38;5;28;01mTrue\u001b[39;00m) \u001b[38;5;28;01mfor\u001b[39;00m t \u001b[38;5;129;01min\u001b[39;00m inp)\n\u001b[1;32m--> 803\u001b[0m jac \u001b[38;5;241m=\u001b[39m \u001b[43mjacobian\u001b[49m\u001b[43m(\u001b[49m\u001b[43mensure_single_output_function\u001b[49m\u001b[43m,\u001b[49m\u001b[43m \u001b[49m\u001b[43minp\u001b[49m\u001b[43m,\u001b[49m\u001b[43m \u001b[49m\u001b[43mcreate_graph\u001b[49m\u001b[38;5;241;43m=\u001b[39;49m\u001b[38;5;28;43;01mTrue\u001b[39;49;00m\u001b[43m)\u001b[49m\n\u001b[0;32m    804\u001b[0m _check_requires_grad(jac, \u001b[38;5;124m\"\u001b[39m\u001b[38;5;124mjacobian\u001b[39m\u001b[38;5;124m\"\u001b[39m, strict\u001b[38;5;241m=\u001b[39mstrict)\n\u001b[0;32m    805\u001b[0m \u001b[38;5;28;01mreturn\u001b[39;00m jac\n",
      "File \u001b[1;32mC:\\ProgramData\\Anaconda3\\lib\\site-packages\\torch\\autograd\\functional.py:574\u001b[0m, in \u001b[0;36mjacobian\u001b[1;34m(func, inputs, create_graph, strict, vectorize, strategy)\u001b[0m\n\u001b[0;32m    571\u001b[0m is_inputs_tuple, inputs \u001b[38;5;241m=\u001b[39m _as_tuple(inputs, \u001b[38;5;124m\"\u001b[39m\u001b[38;5;124minputs\u001b[39m\u001b[38;5;124m\"\u001b[39m, \u001b[38;5;124m\"\u001b[39m\u001b[38;5;124mjacobian\u001b[39m\u001b[38;5;124m\"\u001b[39m)\n\u001b[0;32m    572\u001b[0m inputs \u001b[38;5;241m=\u001b[39m _grad_preprocess(inputs, create_graph\u001b[38;5;241m=\u001b[39mcreate_graph, need_graph\u001b[38;5;241m=\u001b[39m\u001b[38;5;28;01mTrue\u001b[39;00m)\n\u001b[1;32m--> 574\u001b[0m outputs \u001b[38;5;241m=\u001b[39m \u001b[43mfunc\u001b[49m\u001b[43m(\u001b[49m\u001b[38;5;241;43m*\u001b[39;49m\u001b[43minputs\u001b[49m\u001b[43m)\u001b[49m\n\u001b[0;32m    575\u001b[0m is_outputs_tuple, outputs \u001b[38;5;241m=\u001b[39m _as_tuple(outputs,\n\u001b[0;32m    576\u001b[0m                                       \u001b[38;5;124m\"\u001b[39m\u001b[38;5;124moutputs of the user-provided function\u001b[39m\u001b[38;5;124m\"\u001b[39m,\n\u001b[0;32m    577\u001b[0m                                       \u001b[38;5;124m\"\u001b[39m\u001b[38;5;124mjacobian\u001b[39m\u001b[38;5;124m\"\u001b[39m)\n\u001b[0;32m    578\u001b[0m _check_requires_grad(outputs, \u001b[38;5;124m\"\u001b[39m\u001b[38;5;124moutputs\u001b[39m\u001b[38;5;124m\"\u001b[39m, strict\u001b[38;5;241m=\u001b[39mstrict)\n",
      "File \u001b[1;32mC:\\ProgramData\\Anaconda3\\lib\\site-packages\\torch\\autograd\\functional.py:786\u001b[0m, in \u001b[0;36mhessian.<locals>.ensure_single_output_function\u001b[1;34m(*inp)\u001b[0m\n\u001b[0;32m    785\u001b[0m \u001b[38;5;28;01mdef\u001b[39;00m \u001b[38;5;21mensure_single_output_function\u001b[39m(\u001b[38;5;241m*\u001b[39minp):\n\u001b[1;32m--> 786\u001b[0m     out \u001b[38;5;241m=\u001b[39m \u001b[43mfunc\u001b[49m\u001b[43m(\u001b[49m\u001b[38;5;241;43m*\u001b[39;49m\u001b[43minp\u001b[49m\u001b[43m)\u001b[49m\n\u001b[0;32m    787\u001b[0m     is_out_tuple, t_out \u001b[38;5;241m=\u001b[39m _as_tuple(out, \u001b[38;5;124m\"\u001b[39m\u001b[38;5;124moutputs of the user-provided function\u001b[39m\u001b[38;5;124m\"\u001b[39m, \u001b[38;5;124m\"\u001b[39m\u001b[38;5;124mhessian\u001b[39m\u001b[38;5;124m\"\u001b[39m)\n\u001b[0;32m    788\u001b[0m     _check_requires_grad(t_out, \u001b[38;5;124m\"\u001b[39m\u001b[38;5;124moutputs\u001b[39m\u001b[38;5;124m\"\u001b[39m, strict\u001b[38;5;241m=\u001b[39mstrict)\n",
      "\u001b[1;31mTypeError\u001b[0m: pow_adder_reducer() missing 1 required positional argument: 'y'"
     ]
    }
   ],
   "source": [
    "import torch.autograd.functional as F\n",
    "def pow_adder_reducer(x, y):\n",
    "   return (2 * x.pow(2) + 3 * y.pow(2)).sum()\n",
    "inputs = torch.rand(2)\n",
    "F.hessian(pow_adder_reducer, inputs)"
   ]
  },
  {
   "cell_type": "code",
   "execution_count": 6,
   "id": "1eba2266",
   "metadata": {},
   "outputs": [
    {
     "data": {
      "image/png": "[encoded data removed]",
      "text/plain": [
       "<Figure size 432x288 with 1 Axes>"
      ]
     },
     "metadata": {
      "needs_background": "light"
     },
     "output_type": "display_data"
    }
   ],
   "source": [
    "import matplotlib.pyplot as plt\n",
    "import numpy as np\n",
    "def f(x, y):\n",
    "    return np.sin(np.sqrt(x ** 2 + y ** 2))\n",
    "\n",
    "x = np.linspace(-6, 6, 30)\n",
    "y = np.linspace(-6, 6, 30)\n",
    "\n",
    "X, Y = np.meshgrid(x, y)\n",
    "Z = f(X, Y)\n",
    "fig = plt.figure()\n",
    "ax = plt.axes(projection='3d')\n",
    "ax.contour3D(X, Y, Z, 50, cmap='binary')\n",
    "ax.set_xlabel('x')\n",
    "ax.set_ylabel('y')\n",
    "ax.set_zlabel('z');"
   ]
  },
  {
   "cell_type": "code",
   "execution_count": 9,
   "id": "d4809a4e",
   "metadata": {},
   "outputs": [
    {
     "data": {
      "text/plain": [
       "<mpl_toolkits.mplot3d.art3d.Poly3DCollection at 0x7feb2bf0a190>"
      ]
     },
     "execution_count": 9,
     "metadata": {},
     "output_type": "execute_result"
    },
    {
     "data": {
      "image/png": "[encoded data removed]",
      "text/plain": [
       "<Figure size 432x288 with 1 Axes>"
      ]
     },
     "metadata": {
      "needs_background": "light"
     },
     "output_type": "display_data"
    }
   ],
   "source": [
    "ax = plt.axes(projection='3d')\n",
    "ax.plot_surface(X, Y, Z, rstride=1, cstride=1, cmap='viridis', edgecolor='none')"
   ]
  },
  {
   "cell_type": "code",
   "execution_count": 14,
   "id": "653460a7",
   "metadata": {},
   "outputs": [
    {
     "name": "stdout",
     "output_type": "stream",
     "text": [
      "[[1 4]\n",
      " [2 5]\n",
      " [3 6]]\n",
      "[[1 2 3]\n",
      " [4 5 6]]\n",
      "[[17 22 27]\n",
      " [22 29 36]\n",
      " [27 36 45]]\n"
     ]
    }
   ],
   "source": [
    "import numpy as np\n",
    "x_ = np.array([[1,2,3],[4,5,6]])\n",
    "_x = x_.T\n",
    "print(_x)\n",
    "print(x_)\n",
    "x = np.matmul(_x,x_)\n",
    "print(x)\n",
    "w,v = np.linalg.eig(x)"
   ]
  },
  {
   "cell_type": "code",
   "execution_count": 15,
   "id": "b5c0a5a8",
   "metadata": {},
   "outputs": [
    {
     "data": {
      "text/plain": [
       "array([ 9.04026725e+01,  5.97327474e-01, -4.04484173e-15])"
      ]
     },
     "execution_count": 15,
     "metadata": {},
     "output_type": "execute_result"
    }
   ],
   "source": [
    "w"
   ]
  },
  {
   "cell_type": "code",
   "execution_count": 16,
   "id": "538c0e56",
   "metadata": {},
   "outputs": [
    {
     "data": {
      "text/plain": [
       "array([[-0.42866713, -0.80596391,  0.40824829],\n",
       "       [-0.56630692, -0.11238241, -0.81649658],\n",
       "       [-0.7039467 ,  0.58119908,  0.40824829]])"
      ]
     },
     "execution_count": 16,
     "metadata": {},
     "output_type": "execute_result"
    }
   ],
   "source": [
    "v"
   ]
  },
  {
   "cell_type": "code",
   "execution_count": 17,
   "id": "009ed505",
   "metadata": {},
   "outputs": [
    {
     "name": "stdout",
     "output_type": "stream",
     "text": [
      "[[17 22 27]\n",
      " [22 29 36]\n",
      " [27 36 45]]\n"
     ]
    },
    {
     "ename": "LinAlgError",
     "evalue": "Singular matrix",
     "output_type": "error",
     "traceback": [
      "\u001b[0;31m---------------------------------------------------------------------------\u001b[0m",
      "\u001b[0;31mLinAlgError\u001b[0m                               Traceback (most recent call last)",
      "\u001b[0;32m/tmp/ipykernel_2327/3562604743.py\u001b[0m in \u001b[0;36m<module>\u001b[0;34m\u001b[0m\n\u001b[1;32m      1\u001b[0m \u001b[0mprint\u001b[0m\u001b[0;34m(\u001b[0m\u001b[0mx\u001b[0m\u001b[0;34m)\u001b[0m\u001b[0;34m\u001b[0m\u001b[0;34m\u001b[0m\u001b[0m\n\u001b[0;32m----> 2\u001b[0;31m \u001b[0mnp\u001b[0m\u001b[0;34m.\u001b[0m\u001b[0mlinalg\u001b[0m\u001b[0;34m.\u001b[0m\u001b[0minv\u001b[0m\u001b[0;34m(\u001b[0m\u001b[0mx\u001b[0m\u001b[0;34m)\u001b[0m\u001b[0;34m\u001b[0m\u001b[0;34m\u001b[0m\u001b[0m\n\u001b[0m",
      "\u001b[0;32m<__array_function__ internals>\u001b[0m in \u001b[0;36minv\u001b[0;34m(*args, **kwargs)\u001b[0m\n",
      "\u001b[0;32m~/anaconda3/lib/python3.9/site-packages/numpy/linalg/linalg.py\u001b[0m in \u001b[0;36minv\u001b[0;34m(a)\u001b[0m\n\u001b[1;32m    543\u001b[0m     \u001b[0msignature\u001b[0m \u001b[0;34m=\u001b[0m \u001b[0;34m'D->D'\u001b[0m \u001b[0;32mif\u001b[0m \u001b[0misComplexType\u001b[0m\u001b[0;34m(\u001b[0m\u001b[0mt\u001b[0m\u001b[0;34m)\u001b[0m \u001b[0;32melse\u001b[0m \u001b[0;34m'd->d'\u001b[0m\u001b[0;34m\u001b[0m\u001b[0;34m\u001b[0m\u001b[0m\n\u001b[1;32m    544\u001b[0m     \u001b[0mextobj\u001b[0m \u001b[0;34m=\u001b[0m \u001b[0mget_linalg_error_extobj\u001b[0m\u001b[0;34m(\u001b[0m\u001b[0m_raise_linalgerror_singular\u001b[0m\u001b[0;34m)\u001b[0m\u001b[0;34m\u001b[0m\u001b[0;34m\u001b[0m\u001b[0m\n\u001b[0;32m--> 545\u001b[0;31m     \u001b[0mainv\u001b[0m \u001b[0;34m=\u001b[0m \u001b[0m_umath_linalg\u001b[0m\u001b[0;34m.\u001b[0m\u001b[0minv\u001b[0m\u001b[0;34m(\u001b[0m\u001b[0ma\u001b[0m\u001b[0;34m,\u001b[0m \u001b[0msignature\u001b[0m\u001b[0;34m=\u001b[0m\u001b[0msignature\u001b[0m\u001b[0;34m,\u001b[0m \u001b[0mextobj\u001b[0m\u001b[0;34m=\u001b[0m\u001b[0mextobj\u001b[0m\u001b[0;34m)\u001b[0m\u001b[0;34m\u001b[0m\u001b[0;34m\u001b[0m\u001b[0m\n\u001b[0m\u001b[1;32m    546\u001b[0m     \u001b[0;32mreturn\u001b[0m \u001b[0mwrap\u001b[0m\u001b[0;34m(\u001b[0m\u001b[0mainv\u001b[0m\u001b[0;34m.\u001b[0m\u001b[0mastype\u001b[0m\u001b[0;34m(\u001b[0m\u001b[0mresult_t\u001b[0m\u001b[0;34m,\u001b[0m \u001b[0mcopy\u001b[0m\u001b[0;34m=\u001b[0m\u001b[0;32mFalse\u001b[0m\u001b[0;34m)\u001b[0m\u001b[0;34m)\u001b[0m\u001b[0;34m\u001b[0m\u001b[0;34m\u001b[0m\u001b[0m\n\u001b[1;32m    547\u001b[0m \u001b[0;34m\u001b[0m\u001b[0m\n",
      "\u001b[0;32m~/anaconda3/lib/python3.9/site-packages/numpy/linalg/linalg.py\u001b[0m in \u001b[0;36m_raise_linalgerror_singular\u001b[0;34m(err, flag)\u001b[0m\n\u001b[1;32m     86\u001b[0m \u001b[0;34m\u001b[0m\u001b[0m\n\u001b[1;32m     87\u001b[0m \u001b[0;32mdef\u001b[0m \u001b[0m_raise_linalgerror_singular\u001b[0m\u001b[0;34m(\u001b[0m\u001b[0merr\u001b[0m\u001b[0;34m,\u001b[0m \u001b[0mflag\u001b[0m\u001b[0;34m)\u001b[0m\u001b[0;34m:\u001b[0m\u001b[0;34m\u001b[0m\u001b[0;34m\u001b[0m\u001b[0m\n\u001b[0;32m---> 88\u001b[0;31m     \u001b[0;32mraise\u001b[0m \u001b[0mLinAlgError\u001b[0m\u001b[0;34m(\u001b[0m\u001b[0;34m\"Singular matrix\"\u001b[0m\u001b[0;34m)\u001b[0m\u001b[0;34m\u001b[0m\u001b[0;34m\u001b[0m\u001b[0m\n\u001b[0m\u001b[1;32m     89\u001b[0m \u001b[0;34m\u001b[0m\u001b[0m\n\u001b[1;32m     90\u001b[0m \u001b[0;32mdef\u001b[0m \u001b[0m_raise_linalgerror_nonposdef\u001b[0m\u001b[0;34m(\u001b[0m\u001b[0merr\u001b[0m\u001b[0;34m,\u001b[0m \u001b[0mflag\u001b[0m\u001b[0;34m)\u001b[0m\u001b[0;34m:\u001b[0m\u001b[0;34m\u001b[0m\u001b[0;34m\u001b[0m\u001b[0m\n",
      "\u001b[0;31mLinAlgError\u001b[0m: Singular matrix"
     ]
    }
   ],
   "source": [
    "print(x)\n",
    "np.linalg.inv(x)"
   ]
  },
  {
   "cell_type": "code",
   "execution_count": 1,
   "id": "90278ca7",
   "metadata": {},
   "outputs": [
    {
     "ename": "ImportError",
     "evalue": "cannot import name 'vmap' from 'torch' (C:\\ProgramData\\Anaconda3\\lib\\site-packages\\torch\\__init__.py)",
     "output_type": "error",
     "traceback": [
      "\u001b[1;31m---------------------------------------------------------------------------\u001b[0m",
      "\u001b[1;31mImportError\u001b[0m                               Traceback (most recent call last)",
      "Input \u001b[1;32mIn [1]\u001b[0m, in \u001b[0;36m<cell line: 2>\u001b[1;34m()\u001b[0m\n\u001b[0;32m      1\u001b[0m \u001b[38;5;28;01mimport\u001b[39;00m \u001b[38;5;21;01mtorch\u001b[39;00m\n\u001b[1;32m----> 2\u001b[0m \u001b[38;5;28;01mfrom\u001b[39;00m \u001b[38;5;21;01mtorch\u001b[39;00m \u001b[38;5;28;01mimport\u001b[39;00m vmap\n\u001b[0;32m      3\u001b[0m N \u001b[38;5;241m=\u001b[39m \u001b[38;5;241m5\u001b[39m\n\u001b[0;32m      4\u001b[0m \u001b[38;5;28;01mdef\u001b[39;00m \u001b[38;5;21mf\u001b[39m(x):\n",
      "\u001b[1;31mImportError\u001b[0m: cannot import name 'vmap' from 'torch' (C:\\ProgramData\\Anaconda3\\lib\\site-packages\\torch\\__init__.py)"
     ]
    }
   ],
   "source": [
    "import torch\n",
    "from functorch import vmap\n",
    "N = 5\n",
    "def f(x):\n",
    "    return x ** 2\n",
    "\n",
    "x = torch.randn(N, requires_grad=True)\n",
    "y = f(x)\n",
    "basis_vectors = torch.eye(N)\n",
    "\n",
    "# Sequential approach\n",
    "jacobian_rows = [torch.autograd.grad(y, x, v, retain_graph=True)[0]\n",
    "                 for v in basis_vectors.unbind()]\n",
    "jacobian = torch.stack(jacobian_rows)\n",
    "\n",
    "# Using `vmap`, we can vectorize the whole computation, computing the\n",
    "# Jacobian in a single call to `autograd.grad`.\n",
    "def get_vjp(v):\n",
    "    return torch.autograd.grad(y, x, v)[0]\n",
    "\n",
    "jacobian_vmap = vmap(get_vjp)(basis_vectors)\n",
    "assert torch.allclose(jacobian_vmap, jacobian)\n"
   ]
  },
  {
   "cell_type": "code",
   "execution_count": 1,
   "id": "2ee053c0",
   "metadata": {},
   "outputs": [],
   "source": [
    "from functorch import vmap"
   ]
  },
  {
   "cell_type": "code",
   "execution_count": 3,
   "id": "9b4d683c",
   "metadata": {},
   "outputs": [],
   "source": [
    "from functorch import hessian"
   ]
  },
  {
   "cell_type": "code",
   "execution_count": 5,
   "id": "1a54d706",
   "metadata": {},
   "outputs": [],
   "source": [
    "batch_hessian = vmap(hessian)"
   ]
  },
  {
   "cell_type": "code",
   "execution_count": 7,
   "id": "7dc7bced",
   "metadata": {},
   "outputs": [],
   "source": [
    "import functorch"
   ]
  },
  {
   "cell_type": "code",
   "execution_count": 8,
   "id": "7a3185c3",
   "metadata": {},
   "outputs": [
    {
     "data": {
      "text/plain": [
       "tensor([[ 1.4696, -1.2516, -0.3284],\n",
       "        [ 3.3134,  1.2970, -1.6440]])"
      ]
     },
     "execution_count": 8,
     "metadata": {},
     "output_type": "execute_result"
    }
   ],
   "source": [
    "                     # [D], [D] -> []\n",
    "batched_dot = functorch.vmap(functorch.vmap(torch.dot))  # [N1, N0, D], [N1, N0, D] -> [N1, N0]\n",
    "x, y = torch.randn(2, 3, 5), torch.randn(2, 3, 5)\n",
    "batched_dot(x, y) # tensor of size [2, 3]"
   ]
  },
  {
   "cell_type": "code",
   "execution_count": 11,
   "id": "67f50b6b",
   "metadata": {},
   "outputs": [
    {
     "data": {
      "text/plain": [
       "tensor(1.2970)"
      ]
     },
     "execution_count": 11,
     "metadata": {},
     "output_type": "execute_result"
    }
   ],
   "source": [
    "torch.dot(x[1][1], y[1][1])"
   ]
  },
  {
   "cell_type": "code",
   "execution_count": 12,
   "id": "f619af59",
   "metadata": {},
   "outputs": [
    {
     "data": {
      "text/plain": [
       "tensor([ 0.0678,  0.7170, -0.2483,  1.3951, -0.2144])"
      ]
     },
     "execution_count": 12,
     "metadata": {},
     "output_type": "execute_result"
    }
   ],
   "source": [
    "x[1][1]"
   ]
  },
  {
   "cell_type": "code",
   "execution_count": 8,
   "id": "815e8774",
   "metadata": {},
   "outputs": [
    {
     "data": {
      "text/plain": [
       "torch.Size([10, 1, 4])"
      ]
     },
     "execution_count": 8,
     "metadata": {},
     "output_type": "execute_result"
    }
   ],
   "source": [
    "import torch\n",
    "tensor1 = torch.randn(10, 1, 4)\n",
    "tensor2 = torch.randn(10, 4, 4)\n",
    "torch.matmul(tensor1, tensor2).size()"
   ]
  },
  {
   "cell_type": "code",
   "execution_count": 11,
   "id": "755c1d95",
   "metadata": {},
   "outputs": [
    {
     "data": {
      "text/plain": [
       "torch.Size([10, 1, 4, 1])"
      ]
     },
     "execution_count": 11,
     "metadata": {},
     "output_type": "execute_result"
    }
   ],
   "source": [
    "tensor1.unsqueeze(3).size()"
   ]
  },
  {
   "cell_type": "code",
   "execution_count": null,
   "id": "a29067ea",
   "metadata": {},
   "outputs": [],
   "source": [
    "setattr(c,'freeze',1)"
   ]
  }
 ],
 "metadata": {
  "kernelspec": {
   "display_name": "Python 3 (ipykernel)",
   "language": "python",
   "name": "python3"
  },
  "language_info": {
   "codemirror_mode": {
    "name": "ipython",
    "version": 3
   },
   "file_extension": ".py",
   "mimetype": "text/x-python",
   "name": "python",
   "nbconvert_exporter": "python",
   "pygments_lexer": "ipython3",
   "version": "3.9.12"
  }
 },
 "nbformat": 4,
 "nbformat_minor": 5
}
