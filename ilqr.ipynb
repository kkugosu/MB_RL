{
 "cells": [
  {
   "cell_type": "code",
   "execution_count": 1,
   "id": "f60dde0d",
   "metadata": {},
   "outputs": [],
   "source": [
    "import numpy as np\n",
    "import torch\n",
    "from torch import nn\n",
    "import torch.autograd.functional as F"
   ]
  },
  {
   "cell_type": "code",
   "execution_count": 2,
   "id": "12ec81d5",
   "metadata": {},
   "outputs": [],
   "source": [
    "class Dynamics(nn.Module):\n",
    "\n",
    "    def __init__(self, input_size, hidden_size, output_size):\n",
    "        super(Dynamics, self).__init__()\n",
    "        # self.flatten = nn.Flatten()\n",
    "        self.linear_relu_stack = nn.Sequential(\n",
    "            nn.Linear(input_size, hidden_size),\n",
    "            nn.ReLU(),\n",
    "            nn.Linear(hidden_size, hidden_size),\n",
    "            nn.ReLU(),\n",
    "            nn.Linear(hidden_size, output_size),\n",
    "            nn.ReLU()\n",
    "        )\n",
    "    def forward(self, input_element):\n",
    "        output = self.linear_relu_stack(input_element)\n",
    "        return output"
   ]
  },
  {
   "cell_type": "code",
   "execution_count": 3,
   "id": "72e30322",
   "metadata": {},
   "outputs": [],
   "source": [
    "class reward(nn.Module):\n",
    "\n",
    "    def __init__(self, input_size, hidden_size, output_size = 1):\n",
    "        super(reward, self).__init__()\n",
    "        # self.flatten = nn.Flatten()\n",
    "        self.linear_relu_stack = nn.Sequential(\n",
    "            nn.Linear(input_size, hidden_size),\n",
    "            nn.Tanh(),\n",
    "            nn.Linear(hidden_size, hidden_size),\n",
    "            nn.Tanh(),\n",
    "            nn.Linear(hidden_size, output_size),\n",
    "            nn.Tanh()\n",
    "        )\n",
    "\n",
    "    def forward(self, input_element):\n",
    "        output = self.linear_relu_stack(input_element)\n",
    "        return output"
   ]
  },
  {
   "cell_type": "code",
   "execution_count": 4,
   "id": "c8b44927",
   "metadata": {},
   "outputs": [],
   "source": [
    "statelen = 10\n",
    "actionlen = 3\n",
    "learning_rate = 0.01\n",
    "\n",
    "my_Dyna = Dynamics(statelen + actionlen, statelen, statelen)\n",
    "my_reward = reward(statelen + actionlen, statelen , 1)\n",
    "\n",
    "optimizer1 = torch.optim.SGD(my_Dyna.parameters(), lr=learning_rate)\n",
    "optimizer2 = torch.optim.SGD(my_reward.parameters(), lr=learning_rate)"
   ]
  },
  {
   "cell_type": "code",
   "execution_count": 6,
   "id": "72cba21f",
   "metadata": {},
   "outputs": [],
   "source": [
    "\n",
    "def forward_step(start_state, actions, time_step):\n",
    "    state = start_state\n",
    "    state_collection = start_state.unsqueeze(0)\n",
    "    i = 0\n",
    "    while i < time_step:\n",
    "        sa_input = torch.cat((state,actions[i]),dim = 1)\n",
    "        state = my_Dyna(sa_input)\n",
    "        reward = my_reward(sa_input)\n",
    "        \n",
    "        if i == 0:\n",
    "            reward_collection = reward.unsqueeze(0)\n",
    "        else:\n",
    "            reward_collection = torch.cat((reward_collection, reward.unsqueeze(0)), dim = 0)\n",
    "            \n",
    "        if i == time_step - 1:\n",
    "            break\n",
    "        state_collection = torch.cat((state_collection, state.unsqueeze(0)), dim = 0)\n",
    "        \n",
    "        i = i + 1\n",
    "    \n",
    "    return state_collection, reward_collection\n",
    "\n"
   ]
  },
  {
   "cell_type": "code",
   "execution_count": 7,
   "id": "1bcf7242",
   "metadata": {},
   "outputs": [],
   "source": [
    "start_s = torch.rand((1,10))\n",
    "act_col = torch.rand((3,1,3))\n",
    "state_col, reward_col = forward_step(start_s, act_col, 3)"
   ]
  },
  {
   "cell_type": "code",
   "execution_count": 6,
   "id": "a3617463",
   "metadata": {},
   "outputs": [
    {
     "name": "stdout",
     "output_type": "stream",
     "text": [
      "torch.Size([1, 1])\n"
     ]
    }
   ],
   "source": [
    "\n",
    "T = 3\n",
    "i = T\n",
    "\n",
    "while i > 0:\n",
    "    next_state = my_Dyna(sa_input)\n",
    "    \n",
    "    i = i - 1\n",
    "\n",
    "next_state = torch.rand((1,10))\n",
    "reward = torch.rand((1,1))\n",
    "\n",
    "optimizer1.zero_grad()\n",
    "optimizer2.zero_grad()\n",
    "\n",
    "next_state_ = my_Dyna(testinput)\n",
    "reward_ = my_reward(testinput)\n",
    "\n",
    "loss1 = new_rew - testoutput2\n",
    "\n",
    "loss2 = torch.sum(newstate - testoutput1)\n",
    "loss = loss1 + loss2\n",
    "\n",
    "loss.backward()\n",
    "\n",
    "optimizer1.step()\n",
    "optimizer2.step()\n",
    "\n",
    "print(np.shape(new_rew))"
   ]
  },
  {
   "cell_type": "code",
   "execution_count": 7,
   "id": "e778a275",
   "metadata": {},
   "outputs": [],
   "source": [
    "C = F.hessian(rew, testinput.view(-1))"
   ]
  },
  {
   "cell_type": "code",
   "execution_count": 8,
   "id": "c950d494",
   "metadata": {},
   "outputs": [
    {
     "data": {
      "text/plain": [
       "torch.Size([13, 13])"
      ]
     },
     "execution_count": 8,
     "metadata": {},
     "output_type": "execute_result"
    }
   ],
   "source": [
    "np.shape(C)"
   ]
  },
  {
   "cell_type": "code",
   "execution_count": 9,
   "id": "2c7883c7",
   "metadata": {},
   "outputs": [],
   "source": [
    "C_pre1 = torch.split(C,[10,3])[0]\n",
    "C_pre2 = torch.split(C,[10,3])[1]"
   ]
  },
  {
   "cell_type": "code",
   "execution_count": 10,
   "id": "2f1134fd",
   "metadata": {},
   "outputs": [
    {
     "name": "stdout",
     "output_type": "stream",
     "text": [
      "torch.Size([10, 10])\n",
      "torch.Size([10, 3])\n",
      "torch.Size([3, 3])\n"
     ]
    }
   ],
   "source": [
    "C_xx = torch.split(C_pre1,[10,3],dim = 1)[0]\n",
    "C_xu = torch.split(C_pre1,[10,3],dim = 1)[1]\n",
    "C_uu = torch.split(C_pre2,[10,3],dim = 1)[1]\n",
    "\n",
    "print(np.shape(C_xx))\n",
    "print(np.shape(C_xu))\n",
    "print(np.shape(C_uu))"
   ]
  },
  {
   "cell_type": "code",
   "execution_count": 11,
   "id": "2cbc1949",
   "metadata": {},
   "outputs": [
    {
     "name": "stdout",
     "output_type": "stream",
     "text": [
      "torch.Size([1, 1])\n"
     ]
    }
   ],
   "source": [
    "c_xtut = torch.matmul(testinput,C)\n",
    "c_xtut = torch.matmul(c_xtut,torch.transpose(testinput, 0, 1))\n",
    "print(np.shape(c_xtut))"
   ]
  },
  {
   "cell_type": "code",
   "execution_count": 12,
   "id": "114102e0",
   "metadata": {},
   "outputs": [
    {
     "name": "stdout",
     "output_type": "stream",
     "text": [
      "torch.Size([1, 1])\n"
     ]
    }
   ],
   "source": [
    "print(np.shape(c_xtut))"
   ]
  },
  {
   "cell_type": "code",
   "execution_count": 13,
   "id": "b76e614a",
   "metadata": {},
   "outputs": [
    {
     "data": {
      "text/plain": [
       "torch.Size([1, 13])"
      ]
     },
     "execution_count": 13,
     "metadata": {},
     "output_type": "execute_result"
    }
   ],
   "source": [
    "np.shape(F.jacobian(rew, testinput.view(-1)))"
   ]
  },
  {
   "cell_type": "code",
   "execution_count": 14,
   "id": "69edf092",
   "metadata": {},
   "outputs": [],
   "source": [
    "reward_grad = F.jacobian(rew, testinput.view(-1))\n",
    "xtut = torch.matmul(reward_grad, torch.transpose(testinput, 0, 1))"
   ]
  },
  {
   "cell_type": "code",
   "execution_count": 15,
   "id": "62b310a7",
   "metadata": {},
   "outputs": [],
   "source": [
    "c_xtut = c_xtut*(1/2) + xtut"
   ]
  },
  {
   "cell_type": "code",
   "execution_count": 29,
   "id": "4f0e3033",
   "metadata": {},
   "outputs": [
    {
     "name": "stdout",
     "output_type": "stream",
     "text": [
      "tensor([[ 264.8106, -232.2623,   37.7186],\n",
      "        [-232.2623,   21.1679,  -53.8926],\n",
      "        [  37.7186,  -53.8926,  197.7308]])\n"
     ]
    }
   ],
   "source": [
    "invCuu = torch.linalg.inv(C_uu)\n",
    "print(invCuu)"
   ]
  },
  {
   "cell_type": "code",
   "execution_count": 30,
   "id": "f287aa1d",
   "metadata": {},
   "outputs": [
    {
     "name": "stdout",
     "output_type": "stream",
     "text": [
      "tensor([[-0.6638, -2.7066,  2.5375, -0.9293, -2.6375, -0.6081, -1.0358,  1.2644,\n",
      "         -0.9148,  0.5197],\n",
      "        [-0.6278,  0.0785, -0.6501, -0.5755,  0.6554,  0.0083, -0.7779,  0.7553,\n",
      "         -0.5766,  0.5486],\n",
      "        [-0.5171, -0.7170,  0.5261,  0.5118, -0.5461, -0.7213, -1.0095, -0.0376,\n",
      "         -0.6958, -0.2683]])\n"
     ]
    }
   ],
   "source": [
    "K_t = -torch.matmul(invCuu, torch.transpose(C_xu,0,1))\n",
    "print(K_t)"
   ]
  },
  {
   "cell_type": "code",
   "execution_count": 23,
   "id": "e3cfd4c8",
   "metadata": {},
   "outputs": [
    {
     "data": {
      "text/plain": [
       "torch.Size([1, 13])"
      ]
     },
     "execution_count": 23,
     "metadata": {},
     "output_type": "execute_result"
    }
   ],
   "source": [
    "np.shape(reward_grad)"
   ]
  },
  {
   "cell_type": "code",
   "execution_count": 24,
   "id": "f39de26a",
   "metadata": {},
   "outputs": [],
   "source": [
    "c_t = torch.split(reward_grad.view(-1), [10, 3])"
   ]
  },
  {
   "cell_type": "code",
   "execution_count": 44,
   "id": "09f9b488",
   "metadata": {},
   "outputs": [
    {
     "name": "stdout",
     "output_type": "stream",
     "text": [
      "tensor([-7.2472, -0.2899, -2.1184])\n"
     ]
    }
   ],
   "source": [
    "k_t = torch.matmul(invCuu, c_t[1])"
   ]
  },
  {
   "cell_type": "code",
   "execution_count": 68,
   "id": "bec29e11",
   "metadata": {},
   "outputs": [],
   "source": [
    "u_t = torch.matmul(K_t, torch.transpose(testinput,0,1)[0:10])"
   ]
  },
  {
   "cell_type": "code",
   "execution_count": 62,
   "id": "ee1c147e",
   "metadata": {},
   "outputs": [],
   "source": [
    "u_t = torch.transpose(u_t,0,1)"
   ]
  },
  {
   "cell_type": "code",
   "execution_count": 64,
   "id": "04fb3eee",
   "metadata": {},
   "outputs": [],
   "source": [
    "u_t = u_t + k_t"
   ]
  },
  {
   "cell_type": "code",
   "execution_count": 50,
   "id": "66677dc8",
   "metadata": {},
   "outputs": [],
   "source": [
    "#for param in rew.parameters():\n",
    "#    print(param)"
   ]
  },
  {
   "cell_type": "code",
   "execution_count": 52,
   "id": "47aaf633",
   "metadata": {},
   "outputs": [
    {
     "data": {
      "text/plain": [
       "torch.Size([10, 13])"
      ]
     },
     "execution_count": 52,
     "metadata": {},
     "output_type": "execute_result"
    }
   ],
   "source": [
    "np.shape(F.jacobian(Dyna, testinput))\n"
   ]
  },
  {
   "cell_type": "code",
   "execution_count": null,
   "id": "678d2e45",
   "metadata": {},
   "outputs": [],
   "source": []
  }
 ],
 "metadata": {
  "kernelspec": {
   "display_name": "Python 3 (ipykernel)",
   "language": "python",
   "name": "python3"
  },
  "language_info": {
   "codemirror_mode": {
    "name": "ipython",
    "version": 3
   },
   "file_extension": ".py",
   "mimetype": "text/x-python",
   "name": "python",
   "nbconvert_exporter": "python",
   "pygments_lexer": "ipython3",
   "version": "3.9.12"
  }
 },
 "nbformat": 4,
 "nbformat_minor": 5
}
